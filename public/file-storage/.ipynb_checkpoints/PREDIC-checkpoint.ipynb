{
 "cells": [
  {
   "cell_type": "code",
   "execution_count": 8,
   "metadata": {},
   "outputs": [
    {
     "name": "stdout",
     "output_type": "stream",
     "text": [
      "hungCHUCHUCHUIHCUIHC\n"
     ]
    },
    {
     "ename": "IndexError",
     "evalue": "list index out of range",
     "output_type": "error",
     "traceback": [
      "\u001b[0;31m---------------------------------------------------------------------------\u001b[0m",
      "\u001b[0;31mIndexError\u001b[0m                                Traceback (most recent call last)",
      "\u001b[0;32m<ipython-input-8-71619115b528>\u001b[0m in \u001b[0;36m<module>\u001b[0;34m()\u001b[0m\n\u001b[1;32m     72\u001b[0m \u001b[0;34m\u001b[0m\u001b[0m\n\u001b[1;32m     73\u001b[0m \u001b[0;32mif\u001b[0m \u001b[0m__name__\u001b[0m \u001b[0;34m==\u001b[0m \u001b[0;34m'__main__'\u001b[0m\u001b[0;34m:\u001b[0m\u001b[0;34m\u001b[0m\u001b[0m\n\u001b[0;32m---> 74\u001b[0;31m         \u001b[0mmain\u001b[0m\u001b[0;34m(\u001b[0m\u001b[0;34m)\u001b[0m\u001b[0;34m\u001b[0m\u001b[0m\n\u001b[0m",
      "\u001b[0;32m<ipython-input-8-71619115b528>\u001b[0m in \u001b[0;36mmain\u001b[0;34m()\u001b[0m\n\u001b[1;32m     47\u001b[0m \u001b[0;34m\u001b[0m\u001b[0m\n\u001b[1;32m     48\u001b[0m \u001b[0;32mdef\u001b[0m \u001b[0mmain\u001b[0m\u001b[0;34m(\u001b[0m\u001b[0;34m)\u001b[0m\u001b[0;34m:\u001b[0m\u001b[0;34m\u001b[0m\u001b[0m\n\u001b[0;32m---> 49\u001b[0;31m         \u001b[0mX\u001b[0m \u001b[0;34m=\u001b[0m \u001b[0mread_in\u001b[0m\u001b[0;34m(\u001b[0m\u001b[0;34m)\u001b[0m\u001b[0;34m\u001b[0m\u001b[0m\n\u001b[0m\u001b[1;32m     50\u001b[0m         \u001b[0mrFile\u001b[0m \u001b[0;34m=\u001b[0m \u001b[0mopen\u001b[0m\u001b[0;34m(\u001b[0m\u001b[0;34m'../../ml_scripts/models/csce235/noOfModels.txt'\u001b[0m\u001b[0;34m,\u001b[0m \u001b[0;34m'r'\u001b[0m\u001b[0;34m)\u001b[0m\u001b[0;34m\u001b[0m\u001b[0m\n\u001b[1;32m     51\u001b[0m         \u001b[0mnoOfModels\u001b[0m \u001b[0;34m=\u001b[0m \u001b[0mint\u001b[0m\u001b[0;34m(\u001b[0m\u001b[0mrFile\u001b[0m\u001b[0;34m.\u001b[0m\u001b[0mread\u001b[0m\u001b[0;34m(\u001b[0m\u001b[0;34m)\u001b[0m\u001b[0;34m)\u001b[0m\u001b[0;34m\u001b[0m\u001b[0m\n",
      "\u001b[0;32m<ipython-input-8-71619115b528>\u001b[0m in \u001b[0;36mread_in\u001b[0;34m()\u001b[0m\n\u001b[1;32m     27\u001b[0m                 \u001b[0mstudent\u001b[0m \u001b[0;34m=\u001b[0m \u001b[0;34m[\u001b[0m\u001b[0;34m]\u001b[0m\u001b[0;34m\u001b[0m\u001b[0m\n\u001b[1;32m     28\u001b[0m                 \u001b[0;32mwhile\u001b[0m \u001b[0;34m(\u001b[0m\u001b[0mcnt\u001b[0m \u001b[0;34m<\u001b[0m \u001b[0mm\u001b[0m\u001b[0;34m)\u001b[0m\u001b[0;34m:\u001b[0m\u001b[0;34m\u001b[0m\u001b[0m\n\u001b[0;32m---> 29\u001b[0;31m                         \u001b[0;32mif\u001b[0m \u001b[0msys\u001b[0m\u001b[0;34m.\u001b[0m\u001b[0margv\u001b[0m\u001b[0;34m[\u001b[0m\u001b[0mj\u001b[0m\u001b[0;34m]\u001b[0m \u001b[0;32min\u001b[0m \u001b[0mparams\u001b[0m\u001b[0;34m:\u001b[0m\u001b[0;34m\u001b[0m\u001b[0m\n\u001b[0m\u001b[1;32m     30\u001b[0m                                 \u001b[0mstudent\u001b[0m \u001b[0;34m+=\u001b[0m \u001b[0;34m[\u001b[0m\u001b[0mfloat\u001b[0m\u001b[0;34m(\u001b[0m\u001b[0msys\u001b[0m\u001b[0;34m.\u001b[0m\u001b[0margv\u001b[0m\u001b[0;34m[\u001b[0m\u001b[0mj\u001b[0m \u001b[0;34m+\u001b[0m \u001b[0;36m1\u001b[0m\u001b[0;34m]\u001b[0m\u001b[0;34m)\u001b[0m\u001b[0;34m]\u001b[0m\u001b[0;34m\u001b[0m\u001b[0m\n\u001b[1;32m     31\u001b[0m                         \u001b[0mj\u001b[0m \u001b[0;34m+=\u001b[0m \u001b[0;36m2\u001b[0m\u001b[0;34m\u001b[0m\u001b[0m\n",
      "\u001b[0;31mIndexError\u001b[0m: list index out of range"
     ]
    }
   ],
   "source": [
    "import pandas as pd\n",
    "import numpy as np\n",
    "import sklearn\n",
    "import sys, json\n",
    "from sklearn import datasets, linear_model, neighbors, svm\n",
    "from sklearn.externals import joblib\n",
    "\n",
    "print(\"hungCHUCHUCHUIHCUIHC\")\n",
    "\n",
    "def read_in():\n",
    "\trFile = open('../../ml_scripts/models/csce235/params.txt', 'r')\n",
    "\tparams = rFile.read().split(\",\")\n",
    "\trFile.close()\n",
    "#\tresult = []\n",
    "#\tfor param in params:\n",
    "#\t\tfor i in range(1, len(sys.argv)):\n",
    "#\t\t\tif (sys.argv[i] == param):\n",
    "#\t\t\t\tresult += [float(sys.argv[i + 1])]\n",
    "#\t\t\t\tbreak\n",
    "#\treturn [result]\n",
    "\tprint(\" sys.argv[2] = \", sys.argv[2])\n",
    "\tn = int(sys.argv[2])\n",
    "\tm = int(sys.argv[3])\n",
    "\tj = 4\n",
    "\tstudents = []\n",
    "\tfor i in range(n):\n",
    "\t\tcnt = 0\n",
    "\t\tstudent = []\n",
    "\t\twhile (cnt < m):\n",
    "\t\t\tif sys.argv[j] in params:\n",
    "\t\t\t\tstudent += [float(sys.argv[j + 1])]\n",
    "\t\t\tj += 2\n",
    "\t\t\tcnt += 1\n",
    "\t\tstudents += [student]\n",
    "\treturn students\n",
    "\t\t\n",
    "def get_prediction(model, X):\n",
    "\tpred = []\n",
    "\tfor val in model.predict(X):\n",
    "\t\tif (val < 0.5):\n",
    "\t\t\tpred.append(0)\n",
    "\t\telif (val < 1.5):\n",
    "\t\t\tpred.append(1)\n",
    "\t\telse:\n",
    "\t\t\tpred.append(2)\n",
    "#\treturn pred[0]\n",
    "\treturn pred\n",
    "\n",
    "def main():\n",
    "\tX = read_in()\n",
    "\trFile = open('../../ml_scripts/models/csce235/noOfModels.txt', 'r')\n",
    "\tnoOfModels = int(rFile.read())\n",
    "\trFile.close()\n",
    "#\tresnum = 0\n",
    "\tresnum = [0] * len(X)\n",
    "\tfor i in range(noOfModels):\n",
    "\t\tmodel = joblib.load('../../ml_scripts/models/csce235/model' + str(i) + '.pkl')\n",
    "#\t\tresnum = max(resnum, get_prediction(model, X))\n",
    "\t\tnewPred = get_prediction(model, X)\n",
    "\t\tresnum = [max(resnum[i], newPred[i]) for i in range(len(X))]\n",
    "\tres = []\n",
    "\tfor pred in resnum:\n",
    "\t\tif (pred == 0): res += [\"Good\"]\n",
    "\t\telif (pred == 1): res += [\"OK\"]\n",
    "\t\telse: res += [\"High-risk\"]\n",
    "#\tif (resnum == 0): \n",
    "#\t\tres = \"Good\"\n",
    "#\telif (resnum == 1): \n",
    "#\t\tres = \"OK\"\n",
    "#\telse: \n",
    "#\t\tres = \"High-risk\"\n",
    "\tprint(','.join(res), end='', flush=True)\n",
    "\n",
    "if __name__ == '__main__':\n",
    "\tmain()\n"
   ]
  },
  {
   "cell_type": "code",
   "execution_count": null,
   "metadata": {},
   "outputs": [],
   "source": []
  },
  {
   "cell_type": "code",
   "execution_count": null,
   "metadata": {},
   "outputs": [],
   "source": []
  }
 ],
 "metadata": {
  "kernelspec": {
   "display_name": "Python 3",
   "language": "python",
   "name": "python3"
  },
  "language_info": {
   "codemirror_mode": {
    "name": "ipython",
    "version": 3
   },
   "file_extension": ".py",
   "mimetype": "text/x-python",
   "name": "python",
   "nbconvert_exporter": "python",
   "pygments_lexer": "ipython3",
   "version": "3.6.5"
  }
 },
 "nbformat": 4,
 "nbformat_minor": 2
}
